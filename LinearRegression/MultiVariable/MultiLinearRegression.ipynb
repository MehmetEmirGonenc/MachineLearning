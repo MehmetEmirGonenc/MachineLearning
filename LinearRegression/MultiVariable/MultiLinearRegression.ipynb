{
 "cells": [
  {
   "cell_type": "markdown",
   "metadata": {},
   "source": [
    "Inportant notes: \n",
    "!! W (big w) represents w vector\n",
    "!! X (big x) represents x vector \n",
    "!! D (big d) represents derivative vector\n",
    "!! x_a^(i) : a th future of i th x \n",
    "For instance: We have 4 futures named as house square, bedroom number, floor number and house age;\n",
    "x_2^(1) : First x's secound future so bedroom number (On coding we start counting from 0!)\n",
    "\n",
    "For multiple variables we rewrite our functions as:\n",
    "f_w,b(x) = w_1 * x_1 + w_2 * x_2 * w_3 * x_3 ... w_n * x_n + b\n",
    " W = [w_1, w_2, w_3 ... w_n]\n",
    " X = [x_1, x_2, x_3 ... x_n]\n",
    " b is a number\n",
    "so this funtion can be writable as : f_w,b(x) = W . X + b (Dot product)\n",
    "\n",
    "Gradient Descent:\n",
    "D = [d_1, d_2, d_3 ... d_n]\n",
    "w_j --> w_j - 0.1*d_j for any defined j\n",
    "so it can writable as: W --> W - 0.1 * D\n"
   ]
  },
  {
   "cell_type": "code",
   "execution_count": 55,
   "metadata": {},
   "outputs": [],
   "source": [
    "import numpy as np\n",
    "import matplotlib.pyplot as plt"
   ]
  },
  {
   "cell_type": "markdown",
   "metadata": {},
   "source": [
    "Creating Dataset"
   ]
  },
  {
   "cell_type": "code",
   "execution_count": 56,
   "metadata": {},
   "outputs": [],
   "source": [
    "# 0- Square 1000 feets\n",
    "# 1- Bedroom number\n",
    "# 2- Floor number\n",
    "# 3- Age\n",
    "x = np.array([\n",
    "    [1.3 ,1 ,1 ,10],\n",
    "    [1.4 ,1 ,1 ,7],\n",
    "    [1.6 ,2 ,2 ,21],\n",
    "    [1.9 ,1 ,1 ,33],\n",
    "    [2.2 ,3 ,1 ,9],\n",
    "    [2.5 ,4 ,1 ,26],\n",
    "    [2.7 ,2 ,2 ,3],\n",
    "    [2.9 ,3 ,2 ,12],\n",
    "    [3.1 ,4 ,1 ,20],\n",
    "    [3.4 ,5 ,2 ,34]\n",
    "])\n",
    "# Prices (10,000s $)\n",
    "y = np.array([12, 20 ,15, 21 , 27 , 30 , 26, 35 , 36 , 38])"
   ]
  },
  {
   "cell_type": "code",
   "execution_count": 57,
   "metadata": {},
   "outputs": [
    {
     "name": "stdout",
     "output_type": "stream",
     "text": [
      "[[1.3 1.  1.  1. ]\n",
      " [1.4 1.  1.  0.7]\n",
      " [1.6 2.  2.  2.1]\n",
      " [1.9 1.  1.  3.3]\n",
      " [2.2 3.  1.  0.9]\n",
      " [2.5 4.  1.  2.6]\n",
      " [2.7 2.  2.  0.3]\n",
      " [2.9 3.  2.  1.2]\n",
      " [3.1 4.  1.  2. ]\n",
      " [3.4 5.  2.  3.4]]\n"
     ]
    }
   ],
   "source": [
    "# Rescaling age feature by divide by 10 to compute and observe easily\n",
    "x[:, -1] /= 10\n",
    "print(x)"
   ]
  },
  {
   "cell_type": "markdown",
   "metadata": {},
   "source": [
    "Visualing all features"
   ]
  },
  {
   "cell_type": "code",
   "execution_count": 58,
   "metadata": {},
   "outputs": [
    {
     "data": {
      "image/png": "[encoded data removed]",
      "text/plain": [
       "<Figure size 640x480 with 1 Axes>"
      ]
     },
     "metadata": {},
     "output_type": "display_data"
    }
   ],
   "source": [
    "plt.scatter(x[:,0],y, marker='*', c='r', label = \"Square\")\n",
    "plt.scatter(x[:,1],y, marker='.', c='b', label = \"Bed number\")\n",
    "plt.scatter(x[:,2],y, marker='x', c='g', label = \"Floor\")\n",
    "plt.scatter(x[:,3],y, marker='x', c='m', label = \"Age\")\n",
    "plt.xlabel = \"Square (1000 feets)\"\n",
    "plt.ylabel = \"Price (10000s $)\"\n",
    "plt.legend()\n",
    "plt.show()"
   ]
  },
  {
   "cell_type": "markdown",
   "metadata": {},
   "source": [
    "Now time to making a prediction model by linear regression with multi variables (4 features on that case)"
   ]
  },
  {
   "cell_type": "code",
   "execution_count": 59,
   "metadata": {},
   "outputs": [],
   "source": [
    "# Defining function\n",
    "def f_wb(x,w,b): # Takes 2 vectors (x and w) and a scaler (b) \n",
    "    # Returns a scaler\n",
    "    return np.dot(x, w) + b"
   ]
  },
  {
   "cell_type": "code",
   "execution_count": 60,
   "metadata": {},
   "outputs": [],
   "source": [
    "def cost_function (x ,y , w, b): # Takes 3 vectors (x, y and w) and a scaler (b) \n",
    "    # Return a scaler\n",
    "    m = len(x)\n",
    "    cost = np.sum(((f_wb(x,w,b)) - y)**2) # Logic is same with making a loop but sum method is more optimized and efficient\n",
    "    return cost / (2*m)"
   ]
  },
  {
   "cell_type": "code",
   "execution_count": 61,
   "metadata": {},
   "outputs": [],
   "source": [
    "def gradient_compute(x, y, w, b): # Takes 3 vectors (x, y and w) and a scaler (b)\n",
    "     # Return one vector and one scaler\n",
    "     m = len(x)\n",
    "     dj_dw = np.dot((f_wb(x, w,0) - y),x) / m\n",
    "     dj_db = np.sum(f_wb(x,w,b)- y) / m\n",
    "     return dj_dw, dj_db\n"
   ]
  },
  {
   "cell_type": "code",
   "execution_count": 62,
   "metadata": {},
   "outputs": [],
   "source": [
    "def gradient_descent(x, y, w, b, alpha= 0.01): # Takes 3 vectors (x, y and w) and two scaler (b and alpha)\n",
    "    while True:\n",
    "        tmpw = w\n",
    "        tmpb = b\n",
    "        # Getting derivatives\n",
    "        dj_dw, dj_db = gradient_compute(x, y, w, b)\n",
    "        \n",
    "        tmpw -= alpha * dj_dw\n",
    "        tmpb -= alpha * dj_db\n",
    "        if tmpb / b <1.0001 and tmpb / b > 0.9999:\n",
    "            if np.all(tmpw / w < 1.0001) and np.all(tmpw / w > 0.9999):\n",
    "                break\n",
    "        \n",
    "        w = tmpw\n",
    "        b = tmpb\n",
    "        \n",
    "    return w, b"
   ]
  },
  {
   "cell_type": "markdown",
   "metadata": {},
   "source": [
    "Lets try it out\n"
   ]
  },
  {
   "cell_type": "code",
   "execution_count": 63,
   "metadata": {},
   "outputs": [
    {
     "name": "stdout",
     "output_type": "stream",
     "text": [
      "[11.82554692  0.65497207 -1.99896334 -0.15742786]\n",
      "0.17411835971467363\n"
     ]
    },
    {
     "name": "stderr",
     "output_type": "stream",
     "text": [
      "C:\\Users\\ARES\\AppData\\Local\\Temp\\ipykernel_26344\\1522813561.py:10: RuntimeWarning: divide by zero encountered in scalar divide\n",
      "  if tmpb / b <1.0001 and tmpb / b > 0.9999:\n"
     ]
    }
   ],
   "source": [
    "# Set initial values as 0\n",
    "initial_w = np.zeros(4)\n",
    "initial_b = 0\n",
    "bestw, bestb = gradient_descent(x, y, initial_w, initial_b)\n",
    "print(bestw)\n",
    "print(bestb)"
   ]
  },
  {
   "cell_type": "markdown",
   "metadata": {},
   "source": [
    "#### Lets check it is true\n",
    "By sketching cost functions graph (J(w,b) versus # iteration graph)\n",
    "\n",
    "But first we will calculate the cost by using bestw and bestb that we found\n",
    " "
   ]
  },
  {
   "cell_type": "code",
   "execution_count": 64,
   "metadata": {},
   "outputs": [
    {
     "name": "stdout",
     "output_type": "stream",
     "text": [
      "1.5421588155466676e-05\n"
     ]
    }
   ],
   "source": [
    "print(cost_function(x, y, bestw, bestb))"
   ]
  },
  {
   "cell_type": "code",
   "execution_count": 65,
   "metadata": {},
   "outputs": [],
   "source": [
    "def cost_iter_graph (x, y, w, b, num_iterations = 500, alpha = 0.01): # x, y and w are vecors, b,num_iterations and alpha is scalers\n",
    "    x_points = np.arange(num_iterations)\n",
    "    y_points = np.zeros(num_iterations)\n",
    "    m = len(x)\n",
    "    \n",
    "    for i in range(num_iterations):\n",
    "        y_points[i] = cost_function(x, y, w, b)\n",
    "        \n",
    "        # Update w vector and b value\n",
    "        # To do that we need to go one step further (alpha)\n",
    "        dj_dw, dj_db = gradient_compute(x, y, w, b)\n",
    "        w -= alpha * dj_dw \n",
    "        b -= alpha * dj_db \n",
    "    return x_points, y_points"
   ]
  },
  {
   "cell_type": "markdown",
   "metadata": {},
   "source": [
    "Sketching graph"
   ]
  },
  {
   "cell_type": "code",
   "execution_count": 74,
   "metadata": {},
   "outputs": [
    {
     "name": "stdout",
     "output_type": "stream",
     "text": [
      "0:   0.12146054622511752\n",
      "50:  0.04445848808743909\n",
      "100: 0.01627324447277366\n",
      "150: 0.0059565337679361495\n",
      "200: 0.0021802839971775774\n",
      "300: 0.00029211373898705535\n",
      "400: 3.9137303088044525e-05\n",
      "499: 1.8890989072892823e-10\n"
     ]
    },
    {
     "data": {
      "text/plain": [
       "<matplotlib.collections.PathCollection at 0x165b51ad390>"
      ]
     },
     "execution_count": 74,
     "metadata": {},
     "output_type": "execute_result"
    },
    {
     "data": {
      "image/png": "[encoded data removed]",
      "text/plain": [
       "<Figure size 640x480 with 1 Axes>"
      ]
     },
     "metadata": {},
     "output_type": "display_data"
    }
   ],
   "source": [
    "x_points, y_points = cost_iter_graph(x, y, initial_w, initial_b)\n",
    "# Some checkpoints with exact values\n",
    "print(\"0:  \",y_points[0])\n",
    "print(\"50: \",y_points[50])\n",
    "print(\"100:\",y_points[100])\n",
    "print(\"150:\",y_points[150])\n",
    "print(\"200:\",y_points[200])\n",
    "print(\"300:\",y_points[300])\n",
    "print(\"400:\",y_points[400])\n",
    "print(\"499:\",y_points[499])\n",
    "plt.scatter(x_points, y_points, marker=\"o\", c=\"r\")"
   ]
  },
  {
   "cell_type": "markdown",
   "metadata": {},
   "source": [
    "Our cost on bestw and bestb is (1.5421588155466676e-05) so it is between 400 and 500(499) so it is well, but maybe it can be a little more because we already reach the concav."
   ]
  },
  {
   "cell_type": "markdown",
   "metadata": {},
   "source": [
    "You can change the alpha and iteration number to investigate more :)"
   ]
  },
  {
   "cell_type": "markdown",
   "metadata": {},
   "source": []
  }
 ],
 "metadata": {
  "kernelspec": {
   "display_name": "base",
   "language": "python",
   "name": "python3"
  },
  "language_info": {
   "codemirror_mode": {
    "name": "ipython",
    "version": 3
   },
   "file_extension": ".py",
   "mimetype": "text/x-python",
   "name": "python",
   "nbconvert_exporter": "python",
   "pygments_lexer": "ipython3",
   "version": "3.11.4"
  }
 },
 "nbformat": 4,
 "nbformat_minor": 2
}
