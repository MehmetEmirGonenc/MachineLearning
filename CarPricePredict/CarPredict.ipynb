{
 "cells": [
  {
   "cell_type": "markdown",
   "metadata": {},
   "source": [
    "On that project we will make a car price predict application by using \"CarPrices\" dataset. To do that, we need to seperate dataset into two datasets, one of them for train, second of them is test dataset. Then clear datasets, understand the dataset structure and how features affect price. Finally, we make a prediction function by the help of linear regression."
   ]
  },
  {
   "cell_type": "code",
   "execution_count": 538,
   "metadata": {},
   "outputs": [],
   "source": [
    "import pandas as pd\n",
    "import numpy as np\n",
    "import matplotlib.pyplot as plt"
   ]
  },
  {
   "cell_type": "markdown",
   "metadata": {},
   "source": [
    "Seperate datasets into two that are test and train."
   ]
  },
  {
   "cell_type": "code",
   "execution_count": 539,
   "metadata": {},
   "outputs": [
    {
     "name": "stdout",
     "output_type": "stream",
     "text": [
      " Main Dataset: 4340\n",
      " Train:3472\n",
      " Test:868\n"
     ]
    }
   ],
   "source": [
    "# Read all data\n",
    "maindf = pd.read_csv(\"CarPrices.csv\")\n",
    "\n",
    "# Setting test dataset size \n",
    "test_rate = 0.2\n",
    "test_size = int(test_rate * len(maindf))\n",
    "\n",
    "# Seperate main dataset\n",
    "testdf = maindf.iloc[:test_size]\n",
    "traindf = maindf.iloc[test_size:]\n",
    "\n",
    "#Check Results\n",
    "print(f\" Main Dataset: {len(maindf)}\\n Train:{len(traindf)}\\n Test:{len(testdf)}\")\n",
    "\n",
    "#Del main dataset form RAM and other unimportant(anymore) variables \n",
    "del maindf, test_rate, test_size"
   ]
  },
  {
   "cell_type": "markdown",
   "metadata": {},
   "source": [
    "Then our work is with traindf for a long time"
   ]
  },
  {
   "cell_type": "markdown",
   "metadata": {},
   "source": [
    "After that we will clear or fill the misisng values"
   ]
  },
  {
   "cell_type": "code",
   "execution_count": 540,
   "metadata": {},
   "outputs": [
    {
     "name": "stdout",
     "output_type": "stream",
     "text": [
      "name             0\n",
      "year             0\n",
      "selling_price    0\n",
      "km_driven        0\n",
      "fuel             0\n",
      "seller_type      0\n",
      "transmission     0\n",
      "owner            0\n",
      "dtype: int64\n"
     ]
    }
   ],
   "source": [
    "# Checking for missing values on dataset\n",
    "print(traindf.isna().sum())"
   ]
  },
  {
   "cell_type": "markdown",
   "metadata": {},
   "source": [
    "As we can see there are no missing values, so we don't need to fill or clear it for now."
   ]
  },
  {
   "cell_type": "markdown",
   "metadata": {},
   "source": [
    "Now time to understand this dataset's structure, to do that we can use different approches such as plotting or counting or summing etc."
   ]
  },
  {
   "cell_type": "code",
   "execution_count": 541,
   "metadata": {},
   "outputs": [
    {
     "data": {
      "text/html": [
       "<div>\n",
       "<style scoped>\n",
       "    .dataframe tbody tr th:only-of-type {\n",
       "        vertical-align: middle;\n",
       "    }\n",
       "\n",
       "    .dataframe tbody tr th {\n",
       "        vertical-align: top;\n",
       "    }\n",
       "\n",
       "    .dataframe thead th {\n",
       "        text-align: right;\n",
       "    }\n",
       "</style>\n",
       "<table border=\"1\" class=\"dataframe\">\n",
       "  <thead>\n",
       "    <tr style=\"text-align: right;\">\n",
       "      <th></th>\n",
       "      <th>name</th>\n",
       "      <th>year</th>\n",
       "      <th>selling_price</th>\n",
       "      <th>km_driven</th>\n",
       "      <th>fuel</th>\n",
       "      <th>seller_type</th>\n",
       "      <th>transmission</th>\n",
       "      <th>owner</th>\n",
       "    </tr>\n",
       "  </thead>\n",
       "  <tbody>\n",
       "    <tr>\n",
       "      <th>868</th>\n",
       "      <td>Hyundai i10 Magna 1.1</td>\n",
       "      <td>2008</td>\n",
       "      <td>150000</td>\n",
       "      <td>90000</td>\n",
       "      <td>Petrol</td>\n",
       "      <td>Individual</td>\n",
       "      <td>Manual</td>\n",
       "      <td>Third Owner</td>\n",
       "    </tr>\n",
       "    <tr>\n",
       "      <th>869</th>\n",
       "      <td>Hyundai Santro Xing GLS</td>\n",
       "      <td>2009</td>\n",
       "      <td>110000</td>\n",
       "      <td>120000</td>\n",
       "      <td>Petrol</td>\n",
       "      <td>Individual</td>\n",
       "      <td>Manual</td>\n",
       "      <td>First Owner</td>\n",
       "    </tr>\n",
       "    <tr>\n",
       "      <th>870</th>\n",
       "      <td>Nissan Sunny Diesel XV</td>\n",
       "      <td>2013</td>\n",
       "      <td>450000</td>\n",
       "      <td>80000</td>\n",
       "      <td>Diesel</td>\n",
       "      <td>Individual</td>\n",
       "      <td>Manual</td>\n",
       "      <td>First Owner</td>\n",
       "    </tr>\n",
       "    <tr>\n",
       "      <th>871</th>\n",
       "      <td>Hyundai i20 1.2 Spotz</td>\n",
       "      <td>2017</td>\n",
       "      <td>400000</td>\n",
       "      <td>38000</td>\n",
       "      <td>Petrol</td>\n",
       "      <td>Individual</td>\n",
       "      <td>Manual</td>\n",
       "      <td>Second Owner</td>\n",
       "    </tr>\n",
       "    <tr>\n",
       "      <th>872</th>\n",
       "      <td>Hyundai Santro Xing GLS</td>\n",
       "      <td>2009</td>\n",
       "      <td>140000</td>\n",
       "      <td>120000</td>\n",
       "      <td>Petrol</td>\n",
       "      <td>Individual</td>\n",
       "      <td>Manual</td>\n",
       "      <td>First Owner</td>\n",
       "    </tr>\n",
       "    <tr>\n",
       "      <th>873</th>\n",
       "      <td>Tata Indigo CR4</td>\n",
       "      <td>2011</td>\n",
       "      <td>130000</td>\n",
       "      <td>90000</td>\n",
       "      <td>Diesel</td>\n",
       "      <td>Individual</td>\n",
       "      <td>Manual</td>\n",
       "      <td>First Owner</td>\n",
       "    </tr>\n",
       "    <tr>\n",
       "      <th>874</th>\n",
       "      <td>Maruti Alto 800 LXI</td>\n",
       "      <td>2017</td>\n",
       "      <td>160000</td>\n",
       "      <td>50000</td>\n",
       "      <td>Petrol</td>\n",
       "      <td>Individual</td>\n",
       "      <td>Manual</td>\n",
       "      <td>First Owner</td>\n",
       "    </tr>\n",
       "    <tr>\n",
       "      <th>875</th>\n",
       "      <td>Maruti Alto 800 LXI</td>\n",
       "      <td>2016</td>\n",
       "      <td>150000</td>\n",
       "      <td>60000</td>\n",
       "      <td>Petrol</td>\n",
       "      <td>Individual</td>\n",
       "      <td>Manual</td>\n",
       "      <td>First Owner</td>\n",
       "    </tr>\n",
       "    <tr>\n",
       "      <th>876</th>\n",
       "      <td>Mahindra XUV500 W8 2WD</td>\n",
       "      <td>2013</td>\n",
       "      <td>500000</td>\n",
       "      <td>100000</td>\n",
       "      <td>Diesel</td>\n",
       "      <td>Individual</td>\n",
       "      <td>Manual</td>\n",
       "      <td>Second Owner</td>\n",
       "    </tr>\n",
       "    <tr>\n",
       "      <th>877</th>\n",
       "      <td>Tata Nano Std</td>\n",
       "      <td>2011</td>\n",
       "      <td>40000</td>\n",
       "      <td>19000</td>\n",
       "      <td>Petrol</td>\n",
       "      <td>Individual</td>\n",
       "      <td>Manual</td>\n",
       "      <td>First Owner</td>\n",
       "    </tr>\n",
       "  </tbody>\n",
       "</table>\n",
       "</div>"
      ],
      "text/plain": [
       "                        name  year  selling_price  km_driven    fuel  \\\n",
       "868    Hyundai i10 Magna 1.1  2008         150000      90000  Petrol   \n",
       "869  Hyundai Santro Xing GLS  2009         110000     120000  Petrol   \n",
       "870   Nissan Sunny Diesel XV  2013         450000      80000  Diesel   \n",
       "871    Hyundai i20 1.2 Spotz  2017         400000      38000  Petrol   \n",
       "872  Hyundai Santro Xing GLS  2009         140000     120000  Petrol   \n",
       "873          Tata Indigo CR4  2011         130000      90000  Diesel   \n",
       "874      Maruti Alto 800 LXI  2017         160000      50000  Petrol   \n",
       "875      Maruti Alto 800 LXI  2016         150000      60000  Petrol   \n",
       "876   Mahindra XUV500 W8 2WD  2013         500000     100000  Diesel   \n",
       "877            Tata Nano Std  2011          40000      19000  Petrol   \n",
       "\n",
       "    seller_type transmission         owner  \n",
       "868  Individual       Manual   Third Owner  \n",
       "869  Individual       Manual   First Owner  \n",
       "870  Individual       Manual   First Owner  \n",
       "871  Individual       Manual  Second Owner  \n",
       "872  Individual       Manual   First Owner  \n",
       "873  Individual       Manual   First Owner  \n",
       "874  Individual       Manual   First Owner  \n",
       "875  Individual       Manual   First Owner  \n",
       "876  Individual       Manual  Second Owner  \n",
       "877  Individual       Manual   First Owner  "
      ]
     },
     "execution_count": 541,
     "metadata": {},
     "output_type": "execute_result"
    }
   ],
   "source": [
    "traindf.head(10)"
   ]
  },
  {
   "cell_type": "code",
   "execution_count": 542,
   "metadata": {},
   "outputs": [
    {
     "data": {
      "text/plain": [
       "name             object\n",
       "year              int64\n",
       "selling_price     int64\n",
       "km_driven         int64\n",
       "fuel             object\n",
       "seller_type      object\n",
       "transmission     object\n",
       "owner            object\n",
       "dtype: object"
      ]
     },
     "execution_count": 542,
     "metadata": {},
     "output_type": "execute_result"
    }
   ],
   "source": [
    "traindf.dtypes"
   ]
  },
  {
   "cell_type": "code",
   "execution_count": 543,
   "metadata": {},
   "outputs": [
    {
     "name": "stdout",
     "output_type": "stream",
     "text": [
      "['Petrol' 'Diesel' 'CNG' 'LPG' 'Electric']\n",
      "['Individual' 'Dealer' 'Trustmark Dealer']\n",
      "['Manual' 'Automatic']\n",
      "['Third Owner' 'First Owner' 'Second Owner' 'Fourth & Above Owner'\n",
      " 'Test Drive Car']\n"
     ]
    }
   ],
   "source": [
    "print(traindf[\"fuel\"].unique())\n",
    "print(traindf[\"seller_type\"].unique())\n",
    "print(traindf[\"transmission\"].unique())\n",
    "print(traindf[\"owner\"].unique())"
   ]
  },
  {
   "cell_type": "code",
   "execution_count": 544,
   "metadata": {},
   "outputs": [
    {
     "data": {
      "image/png": "[encoded data removed]",
      "text/plain": [
       "<Figure size 640x480 with 1 Axes>"
      ]
     },
     "metadata": {},
     "output_type": "display_data"
    }
   ],
   "source": [
    "x_points = traindf[\"km_driven\"] / 10000\n",
    "y_points = traindf[\"selling_price\"] / 10000\n",
    "plt.title(\"Price - Km driven\")\n",
    "plt.ylabel(\"Price as $10,000s\")\n",
    "plt.xlabel(\"Km driven as 10,000 kms\")\n",
    "plt.scatter(x_points,y_points, marker=\"x\", c=\"r\")\n",
    "plt.show()\n",
    "# Remove point series\n",
    "del x_points, y_points"
   ]
  },
  {
   "cell_type": "code",
   "execution_count": 545,
   "metadata": {},
   "outputs": [
    {
     "data": {
      "image/png": "[encoded data removed]",
      "text/plain": [
       "<Figure size 640x480 with 1 Axes>"
      ]
     },
     "metadata": {},
     "output_type": "display_data"
    }
   ],
   "source": [
    "tmp_plot = traindf.groupby([\"fuel\"]).sum()[\"selling_price\"] / traindf.groupby([\"fuel\"]).count()[\"selling_price\"] / 10000\n",
    "tmp_plot.plot.bar()\n",
    "plt.ylabel(\"Price as $10,000s\")\n",
    "plt.xlabel(\"Fuel Type\")\n",
    "plt.title(\"Averadge Price - Fuel Type\")\n",
    "plt.show()\n",
    "# Remove point series\n",
    "del tmp_plot"
   ]
  },
  {
   "cell_type": "code",
   "execution_count": 546,
   "metadata": {},
   "outputs": [
    {
     "data": {
      "image/png": "[encoded data removed]",
      "text/plain": [
       "<Figure size 640x480 with 1 Axes>"
      ]
     },
     "metadata": {},
     "output_type": "display_data"
    }
   ],
   "source": [
    "tmp_plot = traindf.groupby([\"owner\"]).sum()[\"selling_price\"] / traindf.groupby([\"owner\"]).count()[\"selling_price\"] / 10000\n",
    "tmp_plot.plot.bar()\n",
    "plt.ylabel(\"Price as $10,000s\")\n",
    "plt.xlabel(\"Fuel Type\")\n",
    "plt.title(\"Averadge Price - Fuel Type\")\n",
    "plt.show()\n",
    "# Remove point series\n",
    "del tmp_plot"
   ]
  },
  {
   "cell_type": "markdown",
   "metadata": {},
   "source": [
    "And so on... \n"
   ]
  },
  {
   "cell_type": "markdown",
   "metadata": {},
   "source": [
    "Now on that case we need to represent 'object' types with numeric values; This may be not the best way to solve this question! "
   ]
  },
  {
   "cell_type": "code",
   "execution_count": 547,
   "metadata": {},
   "outputs": [],
   "source": [
    "# Creating arrays that are include unique values so types of each object\n",
    "fuel_types = traindf[\"fuel\"].unique()\n",
    "seller_type_types = traindf[\"seller_type\"].unique()\n",
    "transmission_types = traindf[\"transmission\"].unique()\n",
    "owner_types = traindf[\"owner\"].unique()\n",
    "object_names = [\"fuel\", \"seller_type\", \"transmission\", \"owner\"]\n",
    "objects_types= [fuel_types, seller_type_types, transmission_types, owner_types]"
   ]
  },
  {
   "cell_type": "code",
   "execution_count": 548,
   "metadata": {},
   "outputs": [
    {
     "name": "stdout",
     "output_type": "stream",
     "text": [
      "                                     name  year  selling_price  km_driven  \\\n",
      "868                 Hyundai i10 Magna 1.1  2008         150000      90000   \n",
      "869               Hyundai Santro Xing GLS  2009         110000     120000   \n",
      "870                Nissan Sunny Diesel XV  2013         450000      80000   \n",
      "871                 Hyundai i20 1.2 Spotz  2017         400000      38000   \n",
      "872               Hyundai Santro Xing GLS  2009         140000     120000   \n",
      "...                                   ...   ...            ...        ...   \n",
      "4335  Hyundai i20 Magna 1.4 CRDi (Diesel)  2014         409999      80000   \n",
      "4336           Hyundai i20 Magna 1.4 CRDi  2014         409999      80000   \n",
      "4337                  Maruti 800 AC BSIII  2009         110000      83000   \n",
      "4338     Hyundai Creta 1.6 CRDi SX Option  2016         865000      90000   \n",
      "4339                     Renault KWID RXT  2016         225000      40000   \n",
      "\n",
      "     fuel seller_type transmission owner  \n",
      "868     1           1            1     1  \n",
      "869     1           1            1     2  \n",
      "870     2           1            1     2  \n",
      "871     1           1            1     3  \n",
      "872     1           1            1     2  \n",
      "...   ...         ...          ...   ...  \n",
      "4335    2           1            1     3  \n",
      "4336    2           1            1     3  \n",
      "4337    1           1            1     3  \n",
      "4338    2           1            1     2  \n",
      "4339    1           1            1     2  \n",
      "\n",
      "[3472 rows x 8 columns]\n"
     ]
    }
   ],
   "source": [
    "counter = 0\n",
    "for obj in objects_types:\n",
    "    for i in range(len(obj)):\n",
    "        traindf.loc[traindf[object_names[counter]] == obj[i], object_names[counter]] = i+1\n",
    "    counter += 1\n",
    "print(traindf)"
   ]
  },
  {
   "cell_type": "markdown",
   "metadata": {},
   "source": [
    "We were represented objectswith numbers"
   ]
  },
  {
   "cell_type": "markdown",
   "metadata": {},
   "source": [
    "Also we rescale selling_price , km_driven and year(not for now) (optional)"
   ]
  },
  {
   "cell_type": "code",
   "execution_count": 549,
   "metadata": {},
   "outputs": [],
   "source": [
    "traindf['selling_price'] = round(traindf['selling_price'] / 10000, 1) # Write as ex 546.3 just one digit after point\n",
    "traindf['km_driven'] = round(traindf['km_driven'] / 10000, 1) # Write as ex 546.3 just one digit after point"
   ]
  },
  {
   "cell_type": "markdown",
   "metadata": {},
   "source": [
    "Multi variable Linear Regression"
   ]
  },
  {
   "cell_type": "code",
   "execution_count": 550,
   "metadata": {},
   "outputs": [],
   "source": [
    "def f_wb (x, w, b): # Gets 2 vector (x, w) and 1 scaler (b)\n",
    "    # Return a scaler\n",
    "    return np.dot(x, w) + b"
   ]
  },
  {
   "cell_type": "code",
   "execution_count": 551,
   "metadata": {},
   "outputs": [],
   "source": [
    "def cost_function (x, y, w, b): # Takes 3 vectors (x, y and w) and a scaler (b) \n",
    "    # Returns a scaler\n",
    "    m = len(x)\n",
    "    cost = np.sum((f_wb(x,w,b) - y)**2)\n",
    "    return cost / (2*m)"
   ]
  },
  {
   "cell_type": "code",
   "execution_count": 552,
   "metadata": {},
   "outputs": [],
   "source": [
    "def gradient_compute (x, y, w, b): # Takes 3 vectors (x, y and w) and a scaler (b)\n",
    "    # Return one vector and one scaler\n",
    "    m = len(x)\n",
    "    dj_dw = np.dot((f_wb(x,w,b) - y), x) / m\n",
    "    dj_db = np.sum(f_wb(x,w,b) - y) / m\n",
    "    return dj_dw, dj_db"
   ]
  },
  {
   "cell_type": "code",
   "execution_count": 553,
   "metadata": {},
   "outputs": [],
   "source": [
    "def gradient_descent (x, y, w, b, alpha = 0.01, iterations = None): # Takes 3 vectors (x, y and w) and two scaler (b and alpha)\n",
    "    # Returns 2 scaler (best value of w and b)\n",
    "    if iterations == None:\n",
    "        change_rate = 0.001 * alpha # To control concavity\n",
    "        c = 0\n",
    "        while True:\n",
    "            c += 1\n",
    "            tmpw = w\n",
    "            tmpb = b\n",
    "            \n",
    "            # Getting derivatives\n",
    "            dj_dw, dj_db = gradient_compute(x, y, w, b)\n",
    "            \n",
    "            #Calculation\n",
    "            tmpw -= alpha * dj_dw\n",
    "            tmpb -= alpha * dj_db\n",
    "            \n",
    "            if tmpb / b < 1+change_rate and tmpb / b > 1- change_rate:\n",
    "                if np.all(tmpw / w < 1+change_rate) and np.all(tmpw / w > 1- change_rate):\n",
    "                    break\n",
    "            \n",
    "            w = tmpw\n",
    "            b = tmpb\n",
    "        print(\"Step:\",c)\n",
    "    else:\n",
    "        for i in range(iterations):\n",
    "            tmpw = w\n",
    "            tmpb = b\n",
    "            \n",
    "            # Getting derivatives\n",
    "            dj_dw, dj_db = gradient_compute(x, y, w, b)\n",
    "            \n",
    "            #Calculation\n",
    "            tmpw -= alpha * dj_dw\n",
    "            tmpb -= alpha * dj_db\n",
    "\n",
    "            w = tmpw\n",
    "            b = tmpb    \n",
    "    \n",
    "    return w, b"
   ]
  },
  {
   "cell_type": "markdown",
   "metadata": {},
   "source": [
    "We created necessary functions for linear regression with multi features"
   ]
  },
  {
   "cell_type": "markdown",
   "metadata": {},
   "source": [
    "Now we need to organize our dataset properly to find the best fititng line\n"
   ]
  },
  {
   "cell_type": "code",
   "execution_count": 554,
   "metadata": {},
   "outputs": [
    {
     "name": "stdout",
     "output_type": "stream",
     "text": [
      "[2.008e+03 9.000e+00 1.000e+00 1.000e+00 1.000e+00 1.000e+00]\n"
     ]
    }
   ],
   "source": [
    "x_train = traindf[['year', 'km_driven', 'fuel', 'seller_type','transmission', 'owner']].values\n",
    "x_train = x_train.astype('float64')\n",
    "y_train = traindf['selling_price']\n",
    "print(x_train[0])"
   ]
  },
  {
   "cell_type": "markdown",
   "metadata": {},
   "source": [
    "Time to find best w and b values"
   ]
  },
  {
   "cell_type": "code",
   "execution_count": 555,
   "metadata": {},
   "outputs": [
    {
     "name": "stdout",
     "output_type": "stream",
     "text": [
      "bests [ 2.44759336e-02 -6.71506428e-05  3.88340795e-05  3.33102362e-05\n",
      "  3.86042657e-05  1.74540119e-05] 1.201056225717527e-05\n"
     ]
    }
   ],
   "source": [
    "# We set the first w and b values as 0\n",
    "initial_w = np.zeros(6) # We have 6 features so our w vector need to be 6 elements\n",
    "initial_b = 0.0\n",
    "bestw, bestb = gradient_descent(x_train, y_train, initial_w, initial_b, alpha=0.00000001, iterations=300)\n",
    "print(\"bests\",bestw, bestb)"
   ]
  },
  {
   "cell_type": "markdown",
   "metadata": {},
   "source": [
    "Now time to check is that value correct"
   ]
  },
  {
   "cell_type": "code",
   "execution_count": 556,
   "metadata": {},
   "outputs": [
    {
     "name": "stdout",
     "output_type": "stream",
     "text": [
      "1523.640014737689\n"
     ]
    }
   ],
   "source": [
    "# To do that we will sketch a cost functinos graph\n",
    "print(cost_function(x_train, y_train, bestw, bestb))"
   ]
  },
  {
   "cell_type": "code",
   "execution_count": 557,
   "metadata": {},
   "outputs": [],
   "source": [
    "def cost_iter_graph (x, y, w, b, num_iterations = 1000, alpha = 0.00000001): # x, y and w are vecors, b,num_iterations and alpha is scalers\n",
    "    x_points = np.arange(num_iterations)\n",
    "    y_points = np.zeros(num_iterations)\n",
    "    \n",
    "    for i in range(num_iterations):\n",
    "        y_points[i] = cost_function(x, y, w, b)\n",
    "        \n",
    "        # Update w vector and b value\n",
    "        # To do that we need to go one step further (alpha)\n",
    "        dj_dw, dj_db = gradient_compute(x, y, w, b)\n",
    "        w -= alpha * dj_dw \n",
    "        b -= alpha * dj_db \n",
    "    return x_points, y_points"
   ]
  },
  {
   "cell_type": "code",
   "execution_count": 558,
   "metadata": {},
   "outputs": [
    {
     "name": "stdout",
     "output_type": "stream",
     "text": [
      "0:   13279.29904730703\n",
      "50:  1714.6186710502234\n",
      "100: 1529.8927190701509\n",
      "150: 1526.9406730611004\n",
      "200: 1526.8921319327542\n",
      "300: 1526.8885469020743\n",
      "400: 1526.8857266491682\n",
      "499: 1526.8829349067448\n"
     ]
    },
    {
     "data": {
      "text/plain": [
       "<matplotlib.collections.PathCollection at 0x27617cc1f10>"
      ]
     },
     "execution_count": 558,
     "metadata": {},
     "output_type": "execute_result"
    },
    {
     "data": {
      "image/png": "[encoded data removed]",
      "text/plain": [
       "<Figure size 640x480 with 1 Axes>"
      ]
     },
     "metadata": {},
     "output_type": "display_data"
    }
   ],
   "source": [
    "# We change the initial w 0.1 instead of 0 because it occures errors on cost function (should fixed)\n",
    "initial_w = np.array([0.1,0.1,0.1,0.1,0.1,0.1])\n",
    "x_points, y_points = cost_iter_graph(x_train, y_train, initial_w, initial_b, num_iterations=500, alpha=0.00000001)\n",
    "# Some checkpoints with exact values\n",
    "print(\"0:  \",y_points[0])\n",
    "print(\"50: \",y_points[50])\n",
    "print(\"100:\",y_points[100])\n",
    "print(\"150:\",y_points[150])\n",
    "print(\"200:\",y_points[200])\n",
    "print(\"300:\",y_points[300])\n",
    "print(\"400:\",y_points[400])\n",
    "print(\"499:\",y_points[499])\n",
    "plt.scatter(x_points, y_points, marker=\"o\", c=\"r\")"
   ]
  },
  {
   "cell_type": "markdown",
   "metadata": {},
   "source": [
    "So our concavity is around 100 so we can decide our iteration number around 100. "
   ]
  },
  {
   "cell_type": "markdown",
   "metadata": {},
   "source": [
    "## Lets check it by using our test dataset"
   ]
  },
  {
   "cell_type": "code",
   "execution_count": 559,
   "metadata": {},
   "outputs": [
    {
     "name": "stdout",
     "output_type": "stream",
     "text": [
      "name             0\n",
      "year             0\n",
      "selling_price    0\n",
      "km_driven        0\n",
      "fuel             0\n",
      "seller_type      0\n",
      "transmission     0\n",
      "owner            0\n",
      "dtype: int64\n"
     ]
    }
   ],
   "source": [
    "# Organize the test dataset to do processes \n",
    "\n",
    "# 1st- Checking null values\n",
    "print(testdf.isna().sum())"
   ]
  },
  {
   "cell_type": "code",
   "execution_count": 560,
   "metadata": {},
   "outputs": [
    {
     "name": "stdout",
     "output_type": "stream",
     "text": [
      "--------------------------\n",
      "|These two are not equal:|\n",
      "['Petrol' 'Diesel' 'CNG' 'LPG']\n",
      "['Petrol' 'Diesel' 'CNG' 'LPG' 'Electric']\n",
      "--------------------------\n",
      "[ True  True  True]\n",
      "[ True  True]\n",
      "--------------------------\n",
      "|These two are not equal:|\n",
      "['First Owner' 'Second Owner' 'Fourth & Above Owner' 'Third Owner']\n",
      "['Third Owner' 'First Owner' 'Second Owner' 'Fourth & Above Owner'\n",
      " 'Test Drive Car']\n",
      "--------------------------\n"
     ]
    }
   ],
   "source": [
    "# 2nd- Check uniques are same \n",
    "def unique_check (arr1, arr2):\n",
    "    try:\n",
    "        print(arr1 == arr2)\n",
    "    except ValueError:\n",
    "        print(\"--------------------------\")\n",
    "        print(\"|These two are not equal:|\")\n",
    "        print(arr1)\n",
    "        print(arr2)\n",
    "        print(\"--------------------------\")\n",
    "unique_check(testdf[\"fuel\"].unique(), fuel_types)\n",
    "unique_check(testdf[\"seller_type\"].unique(), seller_type_types)\n",
    "unique_check(testdf[\"transmission\"].unique(), transmission_types)\n",
    "unique_check(testdf[\"owner\"].unique(), owner_types)"
   ]
  },
  {
   "cell_type": "markdown",
   "metadata": {},
   "source": [
    "As we can observe there is no missing values but notice we have some different unique values that means our test and train datasets aren't seperated well :(. However, lets try to do withm that. On that point we have no 'Electric' fuel type on our test dataset, so it isn't a good think but it won't occure any problem while prediction (as my guess), on the other hand, test dataset have an extra owner type named as 'Test Drive Car', so we need to put this a one category that also exist on train dataset for example 'First Owner'. However, this will increase our error persantage. "
   ]
  },
  {
   "cell_type": "code",
   "execution_count": 561,
   "metadata": {},
   "outputs": [
    {
     "name": "stdout",
     "output_type": "stream",
     "text": [
      "                            name  year  selling_price  km_driven fuel  \\\n",
      "0                  Maruti 800 AC  2007          60000      70000    1   \n",
      "1       Maruti Wagon R LXI Minor  2007         135000      50000    1   \n",
      "2           Hyundai Verna 1.6 SX  2012         600000     100000    2   \n",
      "3         Datsun RediGO T Option  2017         250000      46000    1   \n",
      "4          Honda Amaze VX i-DTEC  2014         450000     141000    2   \n",
      "..                           ...   ...            ...        ...  ...   \n",
      "863       Hyundai Accent GLE CNG  2009         160000      70000    3   \n",
      "864  Maruti Zen Estilo LXI BSIII  2007         100000      80000    1   \n",
      "865       Maruti Swift Dzire LDI  2014         390000     110000    2   \n",
      "866        Hyundai i20 1.2 Spotz  2017         400000      50000    1   \n",
      "867   Tata Tigor 1.2 Revotron XM  2018         509999       5000    1   \n",
      "\n",
      "    seller_type transmission owner  \n",
      "0             1            1     1  \n",
      "1             1            1     1  \n",
      "2             1            1     1  \n",
      "3             1            1     1  \n",
      "4             1            1     2  \n",
      "..          ...          ...   ...  \n",
      "863           1            1     1  \n",
      "864           1            1     1  \n",
      "865           1            1     2  \n",
      "866           1            1     1  \n",
      "867           1            1     1  \n",
      "\n",
      "[868 rows x 8 columns]\n"
     ]
    }
   ],
   "source": [
    "## Same as upper part (train data)\n",
    "# Creating arrays that are include unique values so types of each object\n",
    "test_fuel_types = testdf[\"fuel\"].unique()\n",
    "test_seller_type_types = testdf[\"seller_type\"].unique()\n",
    "test_transmission_types = testdf[\"transmission\"].unique()\n",
    "test_owner_types = testdf[\"owner\"].unique()\n",
    "test_object_names = [\"fuel\", \"seller_type\", \"transmission\", \"owner\"]\n",
    "test_objects_types= [test_fuel_types, test_seller_type_types, test_transmission_types, test_owner_types]\n",
    "\n",
    "counter = 0\n",
    "for obj in test_objects_types:\n",
    "    for i in range(len(obj)):\n",
    "        testdf.loc[testdf[test_object_names[counter]] == obj[i], test_object_names[counter]] = i+1\n",
    "    counter += 1\n",
    "##\n",
    "# Fixing the special values ('Test Drive Car' that is 4 now because of above code)\n",
    "# We decided to do  'Test Drive Car' values 1 instead of 4\n",
    "testdf.loc[testdf['owner'] == 4, 'owner'] = 1\n",
    "print(testdf)"
   ]
  },
  {
   "cell_type": "code",
   "execution_count": 562,
   "metadata": {},
   "outputs": [],
   "source": [
    "# 3- Rescaling\n",
    "testdf['selling_price'] = round(testdf['selling_price'] / 10000, 1) # Write as ex 546.3 just one digit after point\n",
    "testdf['km_driven'] = round(testdf['km_driven'] / 10000, 1) # Write as ex 546.3 just one digit after point"
   ]
  },
  {
   "cell_type": "markdown",
   "metadata": {},
   "source": [
    "Finally we are ready to try our prediction model :)))"
   ]
  },
  {
   "cell_type": "code",
   "execution_count": 563,
   "metadata": {},
   "outputs": [
    {
     "name": "stdout",
     "output_type": "stream",
     "text": [
      "[2.008e+03 9.000e+00 1.000e+00 1.000e+00 1.000e+00 1.000e+00]\n"
     ]
    }
   ],
   "source": [
    "x_test = testdf[['year', 'km_driven', 'fuel', 'seller_type','transmission', 'owner']].values\n",
    "x_test = x_test.astype('float64')\n",
    "y_test = testdf['selling_price']\n",
    "print(x_train[0])"
   ]
  },
  {
   "cell_type": "code",
   "execution_count": 564,
   "metadata": {},
   "outputs": [
    {
     "name": "stdout",
     "output_type": "stream",
     "text": [
      "Closest percentage : 0.31601002514115856\n",
      "Farest percentage : 1122.570545228092\n",
      "Averadge percentage : 116.08027740095612\n"
     ]
    }
   ],
   "source": [
    "def predict (x, y, w, b): # gives 3 vectors(x,y,w) and 1 scalers (b) (these w and b values should be the best w and b (founded ones))\n",
    "    # Return a vector that include error persantages\n",
    "    prediction = f_wb(x, w, b)\n",
    "    percantage = (abs(prediction - y) / y) * 100\n",
    "    return percantage \n",
    "print(\"Closest percentage :\",predict(x_test, y_test, bestw, bestb).min())\n",
    "print(\"Farest percentage :\", predict(x_test, y_test, bestw, bestb).max())\n",
    "print(\"Averadge percentage :\", predict(x_test, y_test, bestw, bestb).mean())"
   ]
  },
  {
   "cell_type": "markdown",
   "metadata": {},
   "source": [
    "As You can see our error percentage is really high, so we can say that, our approch or our technique is not fitting for this dataset. On the next one we will use different techniques and approches to decrese this error percantage"
   ]
  },
  {
   "cell_type": "code",
   "execution_count": null,
   "metadata": {},
   "outputs": [],
   "source": []
  }
 ],
 "metadata": {
  "kernelspec": {
   "display_name": "base",
   "language": "python",
   "name": "python3"
  },
  "language_info": {
   "codemirror_mode": {
    "name": "ipython",
    "version": 3
   },
   "file_extension": ".py",
   "mimetype": "text/x-python",
   "name": "python",
   "nbconvert_exporter": "python",
   "pygments_lexer": "ipython3",
   "version": "3.11.4"
  }
 },
 "nbformat": 4,
 "nbformat_minor": 2
}
